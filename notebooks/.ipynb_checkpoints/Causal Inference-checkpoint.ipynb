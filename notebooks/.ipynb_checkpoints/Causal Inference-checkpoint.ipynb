{
 "cells": [
  {
   "cell_type": "markdown",
   "id": "3f7d3fcf",
   "metadata": {},
   "source": [
    "### Import"
   ]
  },
  {
   "cell_type": "code",
   "execution_count": 448,
   "id": "6a69d26b",
   "metadata": {},
   "outputs": [],
   "source": [
    "import os\n",
    "import sys\n",
    "import numpy as np\n",
    "import nltk\n",
    "import pandas as pd\n",
    "import re\n",
    "import matplotlib.pyplot as plt"
   ]
  },
  {
   "cell_type": "markdown",
   "id": "1aa0c4e0",
   "metadata": {},
   "source": [
    "### Load Data"
   ]
  },
  {
   "cell_type": "code",
   "execution_count": 449,
   "id": "f790eec4",
   "metadata": {},
   "outputs": [],
   "source": [
    "data = pd.read_csv('../data/spam.csv',encoding='latin-1')\n",
    "data = data[['v1','v2']]\n",
    "data.columns = ['y','text']"
   ]
  },
  {
   "cell_type": "markdown",
   "id": "ac67336c",
   "metadata": {},
   "source": [
    "### Clean Text"
   ]
  },
  {
   "cell_type": "code",
   "execution_count": 450,
   "id": "cfa638ab",
   "metadata": {},
   "outputs": [],
   "source": [
    "texts = data['text'].values\n",
    "newtexts = []\n",
    "for text in texts:\n",
    "    text = text\n",
    "    text = re.sub(r'[^a-zA-Z0-9]', ' ', text)\n",
    "    text = text.lower()\n",
    "    text = text.split(' ')\n",
    "    text = [item for item in text if len(item) > 1]\n",
    "    text = ' '.join(text)\n",
    "    newtexts.append(text)\n",
    "data['text'] = newtexts"
   ]
  },
  {
   "cell_type": "markdown",
   "id": "3a8d2ac0",
   "metadata": {},
   "source": [
    "### Recode Label"
   ]
  },
  {
   "cell_type": "code",
   "execution_count": 451,
   "id": "53ef9551",
   "metadata": {},
   "outputs": [],
   "source": [
    "labels = data['y'].values\n",
    "newlabels = []\n",
    "for label in labels:\n",
    "    if label == 'spam':\n",
    "        newlabels.append(1)\n",
    "    else:\n",
    "        newlabels.append(0)\n",
    "data['y'] = newlabels"
   ]
  },
  {
   "cell_type": "markdown",
   "id": "0b35e455",
   "metadata": {},
   "source": [
    "### Create Dictionaries"
   ]
  },
  {
   "cell_type": "code",
   "execution_count": 452,
   "id": "732fb2e9",
   "metadata": {},
   "outputs": [],
   "source": [
    "spamdic = {}\n",
    "hamdic = {}\n",
    "texts = data['text'].values\n",
    "labels = data['y'].values\n",
    "for t,text in enumerate(texts):\n",
    "    label = labels[t]\n",
    "    words = text.split(' ')\n",
    "    for word in words:\n",
    "        if (label == 1):\n",
    "            if word not in spamdic:\n",
    "                spamdic[word] = 1\n",
    "            else:\n",
    "                value = spamdic[word]\n",
    "                spamdic[word] = value + 1\n",
    "        if (label == 0):\n",
    "            if word not in hamdic:\n",
    "                hamdic[word] = 1\n",
    "            else:\n",
    "                value = hamdic[word]\n",
    "                hamdic[word] = value + 1"
   ]
  },
  {
   "cell_type": "markdown",
   "id": "c2eef598",
   "metadata": {},
   "source": [
    "### Laplacian smoothing"
   ]
  },
  {
   "cell_type": "code",
   "execution_count": 453,
   "id": "30d972eb",
   "metadata": {},
   "outputs": [],
   "source": [
    "for word in hamdic:\n",
    "    if word not in spamdic:\n",
    "        spamdic[word] = 1\n",
    "for word in spamdic:\n",
    "    if word not in hamdic:\n",
    "        hamdic[word] = 1"
   ]
  },
  {
   "cell_type": "markdown",
   "id": "4664f967",
   "metadata": {},
   "source": [
    "### Combine the dictionaries"
   ]
  },
  {
   "cell_type": "code",
   "execution_count": 454,
   "id": "a07cf171",
   "metadata": {},
   "outputs": [],
   "source": [
    "totaldic = {}\n",
    "for item in spamdic:\n",
    "    word = item\n",
    "    count = spamdic[word]\n",
    "    totaldic[word] = count\n",
    "for item in hamdic:\n",
    "    word = item\n",
    "    count = hamdic[word]\n",
    "    prevcount = totaldic[word]\n",
    "    totaldic[word] = count + prevcount"
   ]
  },
  {
   "cell_type": "markdown",
   "id": "47b3792b",
   "metadata": {},
   "source": [
    "### Extract the keys and values and sort them back on indices"
   ]
  },
  {
   "cell_type": "code",
   "execution_count": 455,
   "id": "4d913a1f",
   "metadata": {},
   "outputs": [],
   "source": [
    "words = np.array(list(totaldic.keys()))\n",
    "counts = np.array(list(totaldic.values()))"
   ]
  },
  {
   "cell_type": "markdown",
   "id": "c5cd7476",
   "metadata": {},
   "source": [
    "### Sort and plot"
   ]
  },
  {
   "cell_type": "code",
   "execution_count": 456,
   "id": "7a3527e5",
   "metadata": {},
   "outputs": [],
   "source": [
    "indices = np.argsort(counts)[::-1]\n",
    "indices = indices[:nowords]\n",
    "dictcounts = counts[indices]\n",
    "dictwords = list(words[indices])"
   ]
  },
  {
   "cell_type": "markdown",
   "id": "bf0c134f",
   "metadata": {},
   "source": [
    "### Plot the counts"
   ]
  },
  {
   "cell_type": "code",
   "execution_count": 457,
   "id": "5012e4a5",
   "metadata": {},
   "outputs": [
    {
     "data": {
      "text/plain": [
       "[<matplotlib.lines.Line2D at 0x124b88f10>]"
      ]
     },
     "execution_count": 457,
     "metadata": {},
     "output_type": "execute_result"
    },
    {
     "data": {
      "image/png": "[encoded data removed]",
      "text/plain": [
       "<Figure size 432x288 with 1 Axes>"
      ]
     },
     "metadata": {
      "needs_background": "light"
     },
     "output_type": "display_data"
    }
   ],
   "source": [
    "plt.plot(dictcounts,c='k',linewidth=3)"
   ]
  },
  {
   "cell_type": "markdown",
   "id": "43039f77",
   "metadata": {},
   "source": [
    "### Create Matrix of Binary and Counts"
   ]
  },
  {
   "cell_type": "code",
   "execution_count": 458,
   "id": "bfde1566",
   "metadata": {},
   "outputs": [],
   "source": [
    "X = np.zeros((data.shape[0],totalcounts))\n",
    "C = np.zeros((data.shape[0],totalcounts))\n",
    "texts = data[['text']].values\n",
    "for i in range(len(texts)):\n",
    "    text = texts[i][0]\n",
    "    words = text.split(' ')\n",
    "    for word in words:\n",
    "        if word in dictwords:\n",
    "            index = dictwords.index(word)\n",
    "            X[i,index] = X[i,index] + 1\n",
    "            C[i,index] = 1   \n",
    "DF = np.sum(X,axis=0)\n",
    "DF = np.tile(DF,((X.shape[0],1)))\n",
    "DF = DF / X.shape[0]\n",
    "T = X * DF"
   ]
  },
  {
   "cell_type": "markdown",
   "id": "bf577c75",
   "metadata": {},
   "source": [
    "### Plot binary"
   ]
  },
  {
   "cell_type": "code",
   "execution_count": 459,
   "id": "0a9d73a1",
   "metadata": {},
   "outputs": [
    {
     "data": {
      "image/png": "[encoded data removed]",
      "text/plain": [
       "<Figure size 576x576 with 1 Axes>"
      ]
     },
     "metadata": {
      "needs_background": "light"
     },
     "output_type": "display_data"
    }
   ],
   "source": [
    "plt.figure(figsize=(8,8))\n",
    "plt.imshow(C,aspect=0.1,cmap='gray',interpolation='nearest')\n",
    "plt.savefig('MC.png',dpi=300)"
   ]
  },
  {
   "cell_type": "markdown",
   "id": "d62db0a4",
   "metadata": {},
   "source": [
    "### Plot count"
   ]
  },
  {
   "cell_type": "code",
   "execution_count": 447,
   "id": "4082dfa6",
   "metadata": {},
   "outputs": [
    {
     "name": "stderr",
     "output_type": "stream",
     "text": [
      "/var/folders/9w/9m7w5kz906z4tg6tt0z3rf7w0000gn/T/ipykernel_33992/1887197225.py:2: RuntimeWarning: divide by zero encountered in log\n",
      "  plt.imshow(np.log(np.log(X+1)),aspect=0.1,cmap='gray',interpolation='nearest')\n"
     ]
    },
    {
     "data": {
      "text/plain": [
       "<matplotlib.image.AxesImage at 0x124b0f3a0>"
      ]
     },
     "execution_count": 447,
     "metadata": {},
     "output_type": "execute_result"
    },
    {
     "data": {
      "image/png": "[encoded data removed]",
      "text/plain": [
       "<Figure size 576x576 with 1 Axes>"
      ]
     },
     "metadata": {
      "needs_background": "light"
     },
     "output_type": "display_data"
    }
   ],
   "source": [
    "plt.figure(figsize=(8,8))\n",
    "plt.imshow(X,aspect=0.1,cmap='gray',interpolation='nearest')\n",
    "plt.savefig('MX.png',dpi=300)"
   ]
  },
  {
   "cell_type": "markdown",
   "id": "d56d1e2a",
   "metadata": {},
   "source": [
    "### Plot TF-iDF"
   ]
  },
  {
   "cell_type": "code",
   "execution_count": 382,
   "id": "d19416e8",
   "metadata": {},
   "outputs": [
    {
     "data": {
      "image/png": "[encoded data removed]",
      "text/plain": [
       "<Figure size 576x576 with 1 Axes>"
      ]
     },
     "metadata": {
      "needs_background": "light"
     },
     "output_type": "display_data"
    }
   ],
   "source": [
    "plt.figure(figsize=(8,8))\n",
    "plt.imshow(T,aspect=0.1,cmap='gray',interpolation='nearest')\n",
    "plt.savefig('MT.png',dpi=300)"
   ]
  },
  {
   "cell_type": "code",
   "execution_count": null,
   "id": "100fea21",
   "metadata": {},
   "outputs": [],
   "source": []
  },
  {
   "cell_type": "markdown",
   "id": "2b5d2107",
   "metadata": {},
   "source": [
    "### Draw DAGs"
   ]
  },
  {
   "cell_type": "code",
   "execution_count": 190,
   "id": "54d30fd4",
   "metadata": {},
   "outputs": [
    {
     "data": {
      "image/png": "[encoded data removed]",
      "text/plain": [
       "<Figure size 432x432 with 1 Axes>"
      ]
     },
     "metadata": {
      "needs_background": "light"
     },
     "output_type": "display_data"
    }
   ],
   "source": [
    "plt.figure(figsize=(6,6))\n",
    "plt.scatter(0,30,s=1500,facecolor='w',edgecolor='k',linewidth=4,zorder=2)\n",
    "plt.scatter(-60,-60,s=1500,facecolor='w',edgecolor='k',linewidth=4,zorder=2)\n",
    "plt.scatter(60,-60,s=1500,facecolor='w',edgecolor='k',linewidth=4,zorder=2)\n",
    "plt.axis((-100,100,-100,100))\n",
    "plt.arrow(0,30,55,-80,\n",
    "          color='k',\n",
    "          width = 2,\n",
    "          length_includes_head = True,\n",
    "          head_width = 10,\n",
    "          head_length = 10,\n",
    "          shape = 'full',\n",
    "          overhang = 0,zorder=1)\n",
    "plt.arrow(0,30,-55,-80,\n",
    "          color='k',\n",
    "          width = 2,\n",
    "          length_includes_head = True,\n",
    "          head_width = 10,\n",
    "          head_length = 10,\n",
    "          shape = 'full',\n",
    "          overhang = 0,zorder=1)\n",
    "plt.arrow(-60,-60,110,0,\n",
    "          color='k',\n",
    "          width = 2,\n",
    "          length_includes_head = True,\n",
    "          head_width = 10,\n",
    "          head_length = 10,\n",
    "          shape = 'full',\n",
    "          overhang = 0,zorder=1)\n",
    "plt.savefig('dag1.png',dpi=300)"
   ]
  },
  {
   "cell_type": "markdown",
   "id": "56da939d",
   "metadata": {},
   "source": [
    "### DAG with visibility node"
   ]
  },
  {
   "cell_type": "code",
   "execution_count": 198,
   "id": "90e03d65",
   "metadata": {},
   "outputs": [
    {
     "data": {
      "image/png": "[encoded data removed]",
      "text/plain": [
       "<Figure size 432x432 with 1 Axes>"
      ]
     },
     "metadata": {
      "needs_background": "light"
     },
     "output_type": "display_data"
    }
   ],
   "source": [
    "plt.figure(figsize=(6,6))\n",
    "plt.scatter(0,30,s=1500,facecolor='w',edgecolor='k',linewidth=4,zorder=2)\n",
    "plt.scatter(-60,-60,s=1500,facecolor='w',edgecolor='k',linewidth=4,zorder=2)\n",
    "plt.scatter(60,-60,s=1500,facecolor='w',edgecolor='k',linewidth=4,zorder=2)\n",
    "plt.scatter(0,-60,s=1500,facecolor='w',edgecolor='k',linewidth=4,zorder=2)\n",
    "plt.axis((-100,100,-100,100))\n",
    "plt.arrow(0,30,55,-80,\n",
    "          color='k',\n",
    "          width = 2,\n",
    "          length_includes_head = True,\n",
    "          head_width = 10,\n",
    "          head_length = 10,\n",
    "          shape = 'full',\n",
    "          overhang = 0,zorder=1)\n",
    "plt.arrow(0,30,-55,-80,\n",
    "          color='k',\n",
    "          width = 2,\n",
    "          length_includes_head = True,\n",
    "          head_width = 10,\n",
    "          head_length = 10,\n",
    "          shape = 'full',\n",
    "          overhang = 0,zorder=1)\n",
    "plt.arrow(-60,-60,50,0,\n",
    "          color='k',\n",
    "          width = 2,\n",
    "          length_includes_head = True,\n",
    "          head_width = 10,\n",
    "          head_length = 10,\n",
    "          shape = 'full',\n",
    "          overhang = 0,zorder=1)\n",
    "plt.arrow(0,-60,50,0,\n",
    "          color='k',\n",
    "          width = 2,\n",
    "          length_includes_head = True,\n",
    "          head_width = 10,\n",
    "          head_length = 10,\n",
    "          shape = 'full',\n",
    "          overhang = 0,zorder=1)\n",
    "plt.savefig('dag2.png',dpi=300)"
   ]
  },
  {
   "cell_type": "code",
   "execution_count": 200,
   "id": "9c3c2432",
   "metadata": {},
   "outputs": [
    {
     "data": {
      "image/png": "[encoded data removed]",
      "text/plain": [
       "<Figure size 432x432 with 1 Axes>"
      ]
     },
     "metadata": {
      "needs_background": "light"
     },
     "output_type": "display_data"
    }
   ],
   "source": [
    "plt.figure(figsize=(6,6))\n",
    "plt.scatter(0,30,s=1500,facecolor='w',edgecolor='k',linewidth=4,zorder=2)\n",
    "plt.scatter(-60,-60,s=1500,facecolor='w',edgecolor='k',linewidth=4,zorder=2)\n",
    "plt.scatter(60,-60,s=1500,facecolor='w',edgecolor='k',linewidth=4,zorder=2)\n",
    "plt.scatter(0,-60,s=1500,facecolor='w',edgecolor='k',linewidth=4,zorder=2)\n",
    "plt.axis((-100,100,-100,100))\n",
    "plt.arrow(0,30,0,-80,\n",
    "          color='k',\n",
    "          width = 2,\n",
    "          length_includes_head = True,\n",
    "          head_width = 10,\n",
    "          head_length = 10,\n",
    "          shape = 'full',\n",
    "          overhang = 0,zorder=1)\n",
    "plt.arrow(0,30,55,-80,\n",
    "          color='k',\n",
    "          width = 2,\n",
    "          length_includes_head = True,\n",
    "          head_width = 10,\n",
    "          head_length = 10,\n",
    "          shape = 'full',\n",
    "          overhang = 0,zorder=1)\n",
    "plt.arrow(0,30,-55,-80,\n",
    "          color='k',\n",
    "          width = 2,\n",
    "          length_includes_head = True,\n",
    "          head_width = 10,\n",
    "          head_length = 10,\n",
    "          shape = 'full',\n",
    "          overhang = 0,zorder=1)\n",
    "plt.arrow(-60,-60,50,0,\n",
    "          color='k',\n",
    "          width = 2,\n",
    "          length_includes_head = True,\n",
    "          head_width = 10,\n",
    "          head_length = 10,\n",
    "          shape = 'full',\n",
    "          overhang = 0,zorder=1)\n",
    "plt.arrow(0,-60,50,0,\n",
    "          color='k',\n",
    "          width = 2,\n",
    "          length_includes_head = True,\n",
    "          head_width = 10,\n",
    "          head_length = 10,\n",
    "          shape = 'full',\n",
    "          overhang = 0,zorder=1)\n",
    "plt.savefig('dag3.png',dpi=300)"
   ]
  },
  {
   "cell_type": "code",
   "execution_count": null,
   "id": "e30221ec",
   "metadata": {},
   "outputs": [],
   "source": []
  }
 ],
 "metadata": {
  "kernelspec": {
   "display_name": "Python 3 (ipykernel)",
   "language": "python",
   "name": "python3"
  },
  "language_info": {
   "codemirror_mode": {
    "name": "ipython",
    "version": 3
   },
   "file_extension": ".py",
   "mimetype": "text/x-python",
   "name": "python",
   "nbconvert_exporter": "python",
   "pygments_lexer": "ipython3",
   "version": "3.9.10"
  }
 },
 "nbformat": 4,
 "nbformat_minor": 5
}
