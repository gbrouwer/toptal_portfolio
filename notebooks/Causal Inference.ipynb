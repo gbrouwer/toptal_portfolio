{
 "cells": [
  {
   "cell_type": "markdown",
   "id": "2be13555",
   "metadata": {},
   "source": [
    "### Import"
   ]
  },
  {
   "cell_type": "code",
   "execution_count": 465,
   "id": "5dcd6df1",
   "metadata": {},
   "outputs": [],
   "source": [
    "import os\n",
    "import sys\n",
    "import numpy as np\n",
    "import nltk\n",
    "import pandas as pd\n",
    "import re\n",
    "import matplotlib.pyplot as plt"
   ]
  },
  {
   "cell_type": "markdown",
   "id": "451c11c8",
   "metadata": {},
   "source": [
    "### Load Data"
   ]
  },
  {
   "cell_type": "code",
   "execution_count": 466,
   "id": "cfda2694",
   "metadata": {},
   "outputs": [],
   "source": [
    "data = pd.read_csv('../data/spam.csv',encoding='latin-1')\n",
    "data = data[['v1','v2']]\n",
    "data.columns = ['y','text']"
   ]
  },
  {
   "cell_type": "markdown",
   "id": "ddc7a27e",
   "metadata": {},
   "source": [
    "### Clean Text"
   ]
  },
  {
   "cell_type": "code",
   "execution_count": 467,
   "id": "4594948d",
   "metadata": {},
   "outputs": [],
   "source": [
    "texts = data['text'].values\n",
    "newtexts = []\n",
    "for text in texts:\n",
    "    text = text\n",
    "    text = re.sub(r'[^a-zA-Z0-9]', ' ', text)\n",
    "    text = text.lower()\n",
    "    text = text.split(' ')\n",
    "    text = [item for item in text if len(item) > 1]\n",
    "    text = ' '.join(text)\n",
    "    newtexts.append(text)\n",
    "data['text'] = newtexts"
   ]
  },
  {
   "cell_type": "markdown",
   "id": "1b4313dd",
   "metadata": {},
   "source": [
    "### Recode Label"
   ]
  },
  {
   "cell_type": "code",
   "execution_count": 468,
   "id": "e15fdd31",
   "metadata": {},
   "outputs": [],
   "source": [
    "labels = data['y'].values\n",
    "newlabels = []\n",
    "for label in labels:\n",
    "    if label == 'spam':\n",
    "        newlabels.append(1)\n",
    "    else:\n",
    "        newlabels.append(0)\n",
    "data['y'] = newlabels"
   ]
  },
  {
   "cell_type": "markdown",
   "id": "2cee7eb2",
   "metadata": {},
   "source": [
    "### Create Dictionaries"
   ]
  },
  {
   "cell_type": "code",
   "execution_count": 469,
   "id": "81487fa9",
   "metadata": {},
   "outputs": [],
   "source": [
    "spamdic = {}\n",
    "hamdic = {}\n",
    "texts = data['text'].values\n",
    "labels = data['y'].values\n",
    "for t,text in enumerate(texts):\n",
    "    label = labels[t]\n",
    "    words = text.split(' ')\n",
    "    for word in words:\n",
    "        if (label == 1):\n",
    "            if word not in spamdic:\n",
    "                spamdic[word] = 1\n",
    "            else:\n",
    "                value = spamdic[word]\n",
    "                spamdic[word] = value + 1\n",
    "        if (label == 0):\n",
    "            if word not in hamdic:\n",
    "                hamdic[word] = 1\n",
    "            else:\n",
    "                value = hamdic[word]\n",
    "                hamdic[word] = value + 1"
   ]
  },
  {
   "cell_type": "markdown",
   "id": "c63fadad",
   "metadata": {},
   "source": [
    "### Laplacian smoothing"
   ]
  },
  {
   "cell_type": "code",
   "execution_count": 470,
   "id": "06d2429b",
   "metadata": {},
   "outputs": [],
   "source": [
    "for word in hamdic:\n",
    "    if word not in spamdic:\n",
    "        spamdic[word] = 1\n",
    "for word in spamdic:\n",
    "    if word not in hamdic:\n",
    "        hamdic[word] = 1"
   ]
  },
  {
   "cell_type": "markdown",
   "id": "cdc6e291",
   "metadata": {},
   "source": [
    "### Combine the dictionaries"
   ]
  },
  {
   "cell_type": "code",
   "execution_count": 471,
   "id": "d81d2a56",
   "metadata": {},
   "outputs": [],
   "source": [
    "totaldic = {}\n",
    "for item in spamdic:\n",
    "    word = item\n",
    "    count = spamdic[word]\n",
    "    totaldic[word] = count\n",
    "for item in hamdic:\n",
    "    word = item\n",
    "    count = hamdic[word]\n",
    "    prevcount = totaldic[word]\n",
    "    totaldic[word] = count + prevcount"
   ]
  },
  {
   "cell_type": "markdown",
   "id": "2f52390d",
   "metadata": {},
   "source": [
    "### Extract the keys and values and sort them back on indices"
   ]
  },
  {
   "cell_type": "code",
   "execution_count": 504,
   "id": "9e3819e0",
   "metadata": {},
   "outputs": [],
   "source": [
    "words = np.array(list(totaldic.keys()))\n",
    "counts = np.array(list(totaldic.values()))"
   ]
  },
  {
   "cell_type": "markdown",
   "id": "c653eb1a",
   "metadata": {},
   "source": [
    "### Sort and plot"
   ]
  },
  {
   "cell_type": "code",
   "execution_count": 505,
   "id": "15da1ef1",
   "metadata": {},
   "outputs": [],
   "source": [
    "totalcounts = 200\n",
    "indices = np.argsort(counts)[::-1]\n",
    "indices = indices[:totalcounts]\n",
    "dictcounts = counts[indices]\n",
    "dictwords = list(words[indices])"
   ]
  },
  {
   "cell_type": "markdown",
   "id": "2c4cb1f5",
   "metadata": {},
   "source": [
    "### Plot the counts"
   ]
  },
  {
   "cell_type": "code",
   "execution_count": 506,
   "id": "fc8308ec",
   "metadata": {},
   "outputs": [
    {
     "data": {
      "text/plain": [
       "[<matplotlib.lines.Line2D at 0x1242a3f40>]"
      ]
     },
     "execution_count": 506,
     "metadata": {},
     "output_type": "execute_result"
    },
    {
     "data": {
      "image/png": "[encoded data removed]",
      "text/plain": [
       "<Figure size 432x288 with 1 Axes>"
      ]
     },
     "metadata": {
      "needs_background": "light"
     },
     "output_type": "display_data"
    }
   ],
   "source": [
    "plt.plot(dictcounts,c='k',linewidth=3)"
   ]
  },
  {
   "cell_type": "markdown",
   "id": "bf8e73ae",
   "metadata": {},
   "source": [
    "### Create Matrix of Binary and Counts"
   ]
  },
  {
   "cell_type": "code",
   "execution_count": 507,
   "id": "92dca184",
   "metadata": {},
   "outputs": [],
   "source": [
    "X = np.zeros((data.shape[0],totalcounts))\n",
    "C = np.zeros((data.shape[0],totalcounts))\n",
    "texts = data[['text']].values\n",
    "for i in range(len(texts)):\n",
    "    text = texts[i][0]\n",
    "    words = text.split(' ')\n",
    "    for word in words:\n",
    "        if word in dictwords:\n",
    "            index = dictwords.index(word)\n",
    "            X[i,index] = X[i,index] + 1\n",
    "            C[i,index] = 1   \n",
    "DF = np.sum(X,axis=0)\n",
    "DF = np.tile(DF,((X.shape[0],1)))\n",
    "DF = DF / X.shape[0]\n",
    "T = X / DF"
   ]
  },
  {
   "cell_type": "code",
   "execution_count": 508,
   "id": "00f184fd",
   "metadata": {},
   "outputs": [
    {
     "data": {
      "text/plain": [
       "array([[ 0.        ,  0.        ,  0.        , ...,  0.        ,\n",
       "         0.        ,  0.        ],\n",
       "       [ 0.        ,  0.        ,  0.        , ...,  0.        ,\n",
       "         0.        ,  0.        ],\n",
       "       [ 7.455843  ,  0.        ,  0.        , ...,  0.        ,\n",
       "         0.        ,  0.        ],\n",
       "       ...,\n",
       "       [ 0.        ,  0.        ,  0.        , ...,  0.        ,\n",
       "         0.        ,  0.        ],\n",
       "       [ 2.485281  ,  0.        ,  4.19578313, ..., 89.87096774,\n",
       "         0.        ,  0.        ],\n",
       "       [ 2.485281  ,  0.        ,  0.        , ...,  0.        ,\n",
       "         0.        ,  0.        ]])"
      ]
     },
     "execution_count": 508,
     "metadata": {},
     "output_type": "execute_result"
    }
   ],
   "source": [
    "T"
   ]
  },
  {
   "cell_type": "markdown",
   "id": "8d2288df",
   "metadata": {},
   "source": [
    "### Plot binary"
   ]
  },
  {
   "cell_type": "code",
   "execution_count": 509,
   "id": "3079e56b",
   "metadata": {},
   "outputs": [
    {
     "data": {
      "image/png": "[encoded data removed]",
      "text/plain": [
       "<Figure size 576x576 with 1 Axes>"
      ]
     },
     "metadata": {
      "needs_background": "light"
     },
     "output_type": "display_data"
    }
   ],
   "source": [
    "plt.figure(figsize=(8,8))\n",
    "plt.imshow(C,aspect=0.02,cmap='gray',interpolation='nearest')\n",
    "plt.savefig('MC.png',dpi=300)"
   ]
  },
  {
   "cell_type": "markdown",
   "id": "6c003a76",
   "metadata": {},
   "source": [
    "### Plot count"
   ]
  },
  {
   "cell_type": "code",
   "execution_count": 510,
   "id": "9d7a8a41",
   "metadata": {},
   "outputs": [
    {
     "data": {
      "image/png": "[encoded data removed]",
      "text/plain": [
       "<Figure size 576x576 with 1 Axes>"
      ]
     },
     "metadata": {
      "needs_background": "light"
     },
     "output_type": "display_data"
    }
   ],
   "source": [
    "plt.figure(figsize=(8,8))\n",
    "plt.imshow(np.log(X*4+1),aspect=0.02,cmap='gray',interpolation='nearest')\n",
    "plt.savefig('MX.png',dpi=300)"
   ]
  },
  {
   "cell_type": "markdown",
   "id": "52a2104b",
   "metadata": {},
   "source": [
    "### Plot TF-iDF"
   ]
  },
  {
   "cell_type": "code",
   "execution_count": 511,
   "id": "092a78bb",
   "metadata": {},
   "outputs": [
    {
     "data": {
      "image/png": "[encoded data removed]",
      "text/plain": [
       "<Figure size 576x576 with 1 Axes>"
      ]
     },
     "metadata": {
      "needs_background": "light"
     },
     "output_type": "display_data"
    }
   ],
   "source": [
    "plt.figure(figsize=(8,8))\n",
    "plt.imshow(np.log(T*4+1),aspect=0.02,cmap='gray',interpolation='nearest')\n",
    "plt.savefig('MX.png',dpi=300)"
   ]
  },
  {
   "cell_type": "code",
   "execution_count": null,
   "id": "a69fdc2c",
   "metadata": {},
   "outputs": [],
   "source": []
  },
  {
   "cell_type": "markdown",
   "id": "8844ee08",
   "metadata": {},
   "source": [
    "### Draw DAGs"
   ]
  },
  {
   "cell_type": "code",
   "execution_count": 190,
   "id": "1c82c1aa",
   "metadata": {},
   "outputs": [
    {
     "data": {
      "image/png": "[encoded data removed]",
      "text/plain": [
       "<Figure size 432x432 with 1 Axes>"
      ]
     },
     "metadata": {
      "needs_background": "light"
     },
     "output_type": "display_data"
    }
   ],
   "source": [
    "plt.figure(figsize=(6,6))\n",
    "plt.scatter(0,30,s=1500,facecolor='w',edgecolor='k',linewidth=4,zorder=2)\n",
    "plt.scatter(-60,-60,s=1500,facecolor='w',edgecolor='k',linewidth=4,zorder=2)\n",
    "plt.scatter(60,-60,s=1500,facecolor='w',edgecolor='k',linewidth=4,zorder=2)\n",
    "plt.axis((-100,100,-100,100))\n",
    "plt.arrow(0,30,55,-80,\n",
    "          color='k',\n",
    "          width = 2,\n",
    "          length_includes_head = True,\n",
    "          head_width = 10,\n",
    "          head_length = 10,\n",
    "          shape = 'full',\n",
    "          overhang = 0,zorder=1)\n",
    "plt.arrow(0,30,-55,-80,\n",
    "          color='k',\n",
    "          width = 2,\n",
    "          length_includes_head = True,\n",
    "          head_width = 10,\n",
    "          head_length = 10,\n",
    "          shape = 'full',\n",
    "          overhang = 0,zorder=1)\n",
    "plt.arrow(-60,-60,110,0,\n",
    "          color='k',\n",
    "          width = 2,\n",
    "          length_includes_head = True,\n",
    "          head_width = 10,\n",
    "          head_length = 10,\n",
    "          shape = 'full',\n",
    "          overhang = 0,zorder=1)\n",
    "plt.savefig('dag1.png',dpi=300)"
   ]
  },
  {
   "cell_type": "markdown",
   "id": "b1c03179",
   "metadata": {},
   "source": [
    "### DAG with visibility node"
   ]
  },
  {
   "cell_type": "code",
   "execution_count": 198,
   "id": "0f09c99c",
   "metadata": {},
   "outputs": [
    {
     "data": {
      "image/png": "[encoded data removed]",
      "text/plain": [
       "<Figure size 432x432 with 1 Axes>"
      ]
     },
     "metadata": {
      "needs_background": "light"
     },
     "output_type": "display_data"
    }
   ],
   "source": [
    "plt.figure(figsize=(6,6))\n",
    "plt.scatter(0,30,s=1500,facecolor='w',edgecolor='k',linewidth=4,zorder=2)\n",
    "plt.scatter(-60,-60,s=1500,facecolor='w',edgecolor='k',linewidth=4,zorder=2)\n",
    "plt.scatter(60,-60,s=1500,facecolor='w',edgecolor='k',linewidth=4,zorder=2)\n",
    "plt.scatter(0,-60,s=1500,facecolor='w',edgecolor='k',linewidth=4,zorder=2)\n",
    "plt.axis((-100,100,-100,100))\n",
    "plt.arrow(0,30,55,-80,\n",
    "          color='k',\n",
    "          width = 2,\n",
    "          length_includes_head = True,\n",
    "          head_width = 10,\n",
    "          head_length = 10,\n",
    "          shape = 'full',\n",
    "          overhang = 0,zorder=1)\n",
    "plt.arrow(0,30,-55,-80,\n",
    "          color='k',\n",
    "          width = 2,\n",
    "          length_includes_head = True,\n",
    "          head_width = 10,\n",
    "          head_length = 10,\n",
    "          shape = 'full',\n",
    "          overhang = 0,zorder=1)\n",
    "plt.arrow(-60,-60,50,0,\n",
    "          color='k',\n",
    "          width = 2,\n",
    "          length_includes_head = True,\n",
    "          head_width = 10,\n",
    "          head_length = 10,\n",
    "          shape = 'full',\n",
    "          overhang = 0,zorder=1)\n",
    "plt.arrow(0,-60,50,0,\n",
    "          color='k',\n",
    "          width = 2,\n",
    "          length_includes_head = True,\n",
    "          head_width = 10,\n",
    "          head_length = 10,\n",
    "          shape = 'full',\n",
    "          overhang = 0,zorder=1)\n",
    "plt.savefig('dag2.png',dpi=300)"
   ]
  },
  {
   "cell_type": "code",
   "execution_count": 200,
   "id": "37c149b9",
   "metadata": {},
   "outputs": [
    {
     "data": {
      "image/png": "[encoded data removed]",
      "text/plain": [
       "<Figure size 432x432 with 1 Axes>"
      ]
     },
     "metadata": {
      "needs_background": "light"
     },
     "output_type": "display_data"
    }
   ],
   "source": [
    "plt.figure(figsize=(6,6))\n",
    "plt.scatter(0,30,s=1500,facecolor='w',edgecolor='k',linewidth=4,zorder=2)\n",
    "plt.scatter(-60,-60,s=1500,facecolor='w',edgecolor='k',linewidth=4,zorder=2)\n",
    "plt.scatter(60,-60,s=1500,facecolor='w',edgecolor='k',linewidth=4,zorder=2)\n",
    "plt.scatter(0,-60,s=1500,facecolor='w',edgecolor='k',linewidth=4,zorder=2)\n",
    "plt.axis((-100,100,-100,100))\n",
    "plt.arrow(0,30,0,-80,\n",
    "          color='k',\n",
    "          width = 2,\n",
    "          length_includes_head = True,\n",
    "          head_width = 10,\n",
    "          head_length = 10,\n",
    "          shape = 'full',\n",
    "          overhang = 0,zorder=1)\n",
    "plt.arrow(0,30,55,-80,\n",
    "          color='k',\n",
    "          width = 2,\n",
    "          length_includes_head = True,\n",
    "          head_width = 10,\n",
    "          head_length = 10,\n",
    "          shape = 'full',\n",
    "          overhang = 0,zorder=1)\n",
    "plt.arrow(0,30,-55,-80,\n",
    "          color='k',\n",
    "          width = 2,\n",
    "          length_includes_head = True,\n",
    "          head_width = 10,\n",
    "          head_length = 10,\n",
    "          shape = 'full',\n",
    "          overhang = 0,zorder=1)\n",
    "plt.arrow(-60,-60,50,0,\n",
    "          color='k',\n",
    "          width = 2,\n",
    "          length_includes_head = True,\n",
    "          head_width = 10,\n",
    "          head_length = 10,\n",
    "          shape = 'full',\n",
    "          overhang = 0,zorder=1)\n",
    "plt.arrow(0,-60,50,0,\n",
    "          color='k',\n",
    "          width = 2,\n",
    "          length_includes_head = True,\n",
    "          head_width = 10,\n",
    "          head_length = 10,\n",
    "          shape = 'full',\n",
    "          overhang = 0,zorder=1)\n",
    "plt.savefig('dag3.png',dpi=300)"
   ]
  },
  {
   "cell_type": "code",
   "execution_count": null,
   "id": "7d393097",
   "metadata": {},
   "outputs": [],
   "source": []
  }
 ],
 "metadata": {
  "kernelspec": {
   "display_name": "Python 3 (ipykernel)",
   "language": "python",
   "name": "python3"
  },
  "language_info": {
   "codemirror_mode": {
    "name": "ipython",
    "version": 3
   },
   "file_extension": ".py",
   "mimetype": "text/x-python",
   "name": "python",
   "nbconvert_exporter": "python",
   "pygments_lexer": "ipython3",
   "version": "3.9.10"
  }
 },
 "nbformat": 4,
 "nbformat_minor": 5
}
